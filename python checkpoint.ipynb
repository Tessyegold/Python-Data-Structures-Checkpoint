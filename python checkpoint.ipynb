{
 "cells": [
  {
   "cell_type": "code",
   "execution_count": 1,
   "id": "9c19418e-536c-4f87-b0d1-fffa5beb16a9",
   "metadata": {},
   "outputs": [],
   "source": [
    "#Instructions\n",
    "\n",
    "#Statement:\n",
    "\n",
    "#Create a list to store the shopping items\n",
    "#Use a while loop to create a menu of options for the user to add, remove, or view items from the list\n",
    "#Use a for loop to iterate through the list of items and display them to the user\n",
    "#Use the range() function to limit the number of items that can be added to the list\n",
    "#Use the list, tuple, set, and dictionary data structures to store and manipulate the shopping items\n",
    "#Instructions:\n",
    "\n",
    "#Create a list named 'shopping_list' to store the items.\n",
    "#Use a while loop to create a menu of options for the user to add, remove, or view items from the list.\n",
    "#Use the input() function to prompt the user to make a selection from the menu.\n",
    "#If the user selects 'add', use the input() function to prompt the user to enter an item to add to the list. Use the range() function to limit the number of items that can be added to the list.\n",
    "#If the user selects 'remove', use the input() function to prompt the user to enter an item to remove from the list.\n",
    "#Use the list, tuple, set, and dictionary data structures to store and manipulate the shopping items."
   ]
  },
  {
   "cell_type": "code",
   "execution_count": null,
   "id": "9ea0d97e-423d-4f8d-8d6b-c81704b77517",
   "metadata": {},
   "outputs": [],
   "source": [
    "shopping_list =[\"Yam\", \"Bread\", \"Garri\", \"Spagetti\"]"
   ]
  },
  {
   "cell_type": "code",
   "execution_count": null,
   "id": "cfe13114-39ef-435a-8314-a6f41f24333e",
   "metadata": {},
   "outputs": [],
   "source": [
    "def display_items():\n",
    "    print(\"\\n--- Shopping List Menu ---\")\n",
    "    print(\"1. Add an item\")\n",
    "    print(\"2. Remove an item\")\n",
    "    print(\"3. View all items\")\n",
    "    print(\"4. Exit\")"
   ]
  },
  {
   "cell_type": "code",
   "execution_count": null,
   "id": "8bd4a346-eadb-4c19-a49b-1468d17bcb1d",
   "metadata": {},
   "outputs": [],
   "source": [
    "while True:\n",
    "    display_items"
   ]
  },
  {
   "cell_type": "code",
   "execution_count": null,
   "id": "e01b73e1-70d9-44ec-82ec-c1492384297a",
   "metadata": {},
   "outputs": [],
   "source": [
    "# Function to add an item to the shopping list\n",
    "\n",
    "def add_item():\n",
    "  item =input(\"Enter the item you want to add:\")\n",
    "  shopping_list.append(item)\n",
    "\n",
    "  print (f\" '{item}' has been added to your shopping list\")\n"
   ]
  },
  {
   "cell_type": "code",
   "execution_count": null,
   "id": "616324af-f1e6-493a-9179-dfa5f3afea5e",
   "metadata": {},
   "outputs": [],
   "source": [
    "# Function to remove an item from the the shopping list\n",
    "def remove_item():\n",
    "    item = input(\"Enter the item you want to remove: \")\n",
    "    if item in shopping_list:\n",
    "        shopping_list.remove(item)\n",
    "        print(f\"'{item}' has been removed from your shopping list.\")\n",
    "    else:\n",
    "        print(f\"'{item}' not found in the shopping list.\")"
   ]
  },
  {
   "cell_type": "code",
   "execution_count": null,
   "id": "022532b9-e7a7-414f-baad-03d622d39eec",
   "metadata": {},
   "outputs": [],
   "source": [
    "# Function to view all items in the shopping list\n",
    "def view_items():\n",
    "    if shopping_list:\n",
    "        print(\"\\nYour shopping list:\")\n",
    "        for idx, item in enumerate(shopping_list, 1):\n",
    "            print(f\"{idx}. {item}\")\n",
    "    else:\n",
    "        print(\"Your shopping list is empty.\")\n"
   ]
  },
  {
   "cell_type": "code",
   "execution_count": null,
   "id": "f171e0b3-925d-4b2d-b0bc-71544e7e5f19",
   "metadata": {},
   "outputs": [],
   "source": [
    "\n",
    "# Main program loop\n",
    "while True:\n",
    "    function()\n",
    "    choice = input(\"Please choose an option (1/2/3/4): \")\n",
    "\n",
    "    if choice == '1':\n",
    "        add_item()\n",
    "    elif choice == '2':\n",
    "        remove_item()\n",
    "    elif choice == '3':\n",
    "        view_items()\n",
    "    elif choice == '4':\n",
    "        print(\"Exiting the shopping list program. Goodbye!\")\n",
    "        break\n",
    "    else:\n",
    "        print(\"Invalid option. Please choose a valid option.\")"
   ]
  },
  {
   "cell_type": "code",
   "execution_count": null,
   "id": "ce7c3c6a-ddea-444d-bfbf-b2ab41f2848b",
   "metadata": {},
   "outputs": [],
   "source": [
    "print(shopping_list)[1]\n"
   ]
  },
  {
   "cell_type": "code",
   "execution_count": null,
   "id": "ec37e986-9614-4c4c-a53d-0309af99c195",
   "metadata": {},
   "outputs": [],
   "source": []
  },
  {
   "cell_type": "code",
   "execution_count": null,
   "id": "3901a995-93d7-4463-ae93-a6ba7a636835",
   "metadata": {},
   "outputs": [],
   "source": []
  }
 ],
 "metadata": {
  "kernelspec": {
   "display_name": "Python 3 (ipykernel)",
   "language": "python",
   "name": "python3"
  },
  "language_info": {
   "codemirror_mode": {
    "name": "ipython",
    "version": 3
   },
   "file_extension": ".py",
   "mimetype": "text/x-python",
   "name": "python",
   "nbconvert_exporter": "python",
   "pygments_lexer": "ipython3",
   "version": "3.12.7"
  }
 },
 "nbformat": 4,
 "nbformat_minor": 5
}
